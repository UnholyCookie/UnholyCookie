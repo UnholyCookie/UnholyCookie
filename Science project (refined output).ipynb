{
 "cells": [
  {
   "cell_type": "code",
   "execution_count": 1,
   "id": "a93eaf22",
   "metadata": {},
   "outputs": [],
   "source": [
    "import numpy as np\n",
    "import pandas as pd"
   ]
  },
  {
   "cell_type": "markdown",
   "id": "fdf902a8",
   "metadata": {},
   "source": [
    "# Percentage aggregation"
   ]
  },
  {
   "cell_type": "code",
   "execution_count": 2,
   "id": "773aa3f9",
   "metadata": {},
   "outputs": [],
   "source": [
    "def percenter(df, field_name):\n",
    "    result = df[field_name].dropna().apply(\n",
    "        lambda x: 100 * x / df[field_name].dropna().sum()).apply(\n",
    "        lambda x: format(x, '.1f')).sort_values(ascending=False)\n",
    "    return result\n",
    "\n",
    "def percent_agg(df, rows):\n",
    "    return pd.DataFrame([percenter(df, 'Male'), \n",
    "             percenter(df, 'Female'),\n",
    "             percenter(df, 'Kids')],\n",
    "             index=rows).T.set_index(df['Unnamed: 0'])"
   ]
  },
  {
   "cell_type": "code",
   "execution_count": 3,
   "id": "8ba56eae",
   "metadata": {},
   "outputs": [],
   "source": [
    "df_dict_1 = pd.read_excel('files/crocs/crocs_2022.xlsx', sheet_name=None)\n",
    "df_dict_2 = pd.read_excel('files/crocs/crocs_2023.xlsx', sheet_name=None)"
   ]
  },
  {
   "cell_type": "code",
   "execution_count": 4,
   "id": "1653d76c",
   "metadata": {},
   "outputs": [
    {
     "data": {
      "text/plain": [
       "dict_keys(['Locations', 'Locations 2', 'Locations 3', 'Locations 4', 'Moves', 'Moves 2', 'Environments', 'Areas'])"
      ]
     },
     "execution_count": 4,
     "metadata": {},
     "output_type": "execute_result"
    }
   ],
   "source": [
    "df_dict_1.keys()"
   ]
  },
  {
   "cell_type": "code",
   "execution_count": 5,
   "id": "d2809561",
   "metadata": {},
   "outputs": [
    {
     "data": {
      "text/plain": [
       "dict_keys(['Locations', 'Locations 2', 'Locations 3', 'Locations 4', 'Moves', 'Moves 2', 'Environments', 'Areas'])"
      ]
     },
     "execution_count": 5,
     "metadata": {},
     "output_type": "execute_result"
    }
   ],
   "source": [
    "df_dict_2.keys()"
   ]
  },
  {
   "cell_type": "code",
   "execution_count": 7,
   "id": "a573b821",
   "metadata": {},
   "outputs": [],
   "source": [
    "rows = ['Male', 'Female', 'Kids']\n",
    "rows_2 = ['Male', 'Female']\n",
    "\n",
    "locs_percent_1 = percent_agg(df_dict_1.get('Locations'), rows)\n",
    "locs_2_percent_1 = pd.DataFrame([percenter(df_dict_1.get('Locations 2'), 'Male'), \n",
    "                     percenter(df_dict_1.get('Locations 2'), 'Female')],\n",
    "                     index=rows_2).T.set_index(df_dict_1.get('Locations 2')['Unnamed: 0'])\n",
    "locs_3_percent_1 = pd.DataFrame([percenter(df_dict_1.get('Locations 3'), 'Number of minutes')],\n",
    "                     ).T.set_index(df_dict_1.get('Locations 3')['Locations & kids'])\n",
    "locs_4_percent_1 = pd.DataFrame([percenter(df_dict_1.get('Locations 4'), 'Number of minutes')],\n",
    "                     ).T.set_index(df_dict_1.get('Locations 4')['Locations'])\n",
    "moves_percent_1 = percent_agg(df_dict_1.get('Moves'), rows)\n",
    "moves_2_percent_1 = pd.DataFrame([percenter(df_dict_1.get('Moves 2'), 'Male'), \n",
    "                     percenter(df_dict_1.get('Moves 2'), 'Female')],\n",
    "                     index=rows_2).T.set_index(df_dict_1.get('Moves 2')['Unnamed: 0'])\n",
    "env_percent_1 = percent_agg(df_dict_1.get('Environments'), rows)\n",
    "areas_percent_1 = percent_agg(df_dict_1.get('Areas'), rows)\n",
    "\n",
    "locs_percent_2 = percent_agg(df_dict_2.get('Locations'), rows)\n",
    "locs_2_percent_2 = pd.DataFrame([percenter(df_dict_2.get('Locations 2'), 'Male'), \n",
    "                     percenter(df_dict_2.get('Locations 2'), 'Female')],\n",
    "                     index=rows_2).T.set_index(df_dict_2.get('Locations 2')['Unnamed: 0'])\n",
    "locs_3_percent_2 = pd.DataFrame([percenter(df_dict_2.get('Locations 3'), 'Number of minutes')],\n",
    "                     ).T.set_index(df_dict_2.get('Locations 3')['Locations & kids'])\n",
    "locs_4_percent_2 = pd.DataFrame([percenter(df_dict_2.get('Locations 4'), 'Number of minutes')],\n",
    "                     ).T.set_index(df_dict_2.get('Locations 4')['Locations'])\n",
    "moves_percent_2 = percent_agg(df_dict_2.get('Moves'), rows)\n",
    "moves_2_percent_2 = pd.DataFrame([percenter(df_dict_2.get('Moves 2'), 'Male'), \n",
    "                     percenter(df_dict_2.get('Moves 2'), 'Female')],\n",
    "                     index=rows_2).T.set_index(df_dict_2.get('Moves 2')['Unnamed: 0'])\n",
    "env_percent_2 = percent_agg(df_dict_2.get('Environments'), rows)\n",
    "areas_percent_2 = percent_agg(df_dict_2.get('Areas'), rows)"
   ]
  },
  {
   "cell_type": "code",
   "execution_count": 8,
   "id": "de976d8a",
   "metadata": {},
   "outputs": [],
   "source": [
    "def compiler(field_name, sex):\n",
    "    return pd.DataFrame([df_dict_1.get(field_name).set_index('Unnamed: 0')[sex], \n",
    "                         df_dict_2.get(field_name).set_index('Unnamed: 0')[sex]],\n",
    "                         index=[f'{sex} 2022', f'{sex} 2023']).T\n",
    "\n",
    "def compiler_2(field_name):\n",
    "    return pd.DataFrame([df_dict_1.get(field_name).set_index('Locations & kids')[\n",
    "                        'Number of minutes'], \n",
    "                         df_dict_2.get(field_name).set_index('Locations & kids')[\n",
    "                        'Number of minutes']],\n",
    "                         index=['Male 2022', 'Male 2023']).T\n",
    "\n",
    "def compiler_3(field_name):\n",
    "    return pd.DataFrame([df_dict_1.get(field_name).set_index('Locations')[\n",
    "                        'Number of minutes'], \n",
    "                         df_dict_2.get(field_name).set_index('Locations')[\n",
    "                        'Number of minutes']],\n",
    "                         index=['Male 2022', 'Male 2023']).T"
   ]
  },
  {
   "cell_type": "code",
   "execution_count": 9,
   "id": "6f78fbee",
   "metadata": {},
   "outputs": [
    {
     "data": {
      "text/plain": [
       "dict_keys(['Locations', 'Locations 2', 'Locations 3', 'Locations 4', 'Moves', 'Moves 2', 'Environments', 'Areas'])"
      ]
     },
     "execution_count": 9,
     "metadata": {},
     "output_type": "execute_result"
    }
   ],
   "source": [
    "df_dict_1.keys()"
   ]
  },
  {
   "cell_type": "code",
   "execution_count": 21,
   "id": "34339474",
   "metadata": {},
   "outputs": [],
   "source": [
    "writer = pd.ExcelWriter('files/crocs/crocs-refined.xlsx', engine='xlsxwriter')\n",
    "\n",
    "\n",
    "compiler('Locations', 'Male').to_excel(writer, sheet_name='Locations M')\n",
    "pd.DataFrame([locs_percent_1['Male'], locs_percent_2['Male']],\n",
    "            index=['Male 2022', 'Male 2023']).T.to_excel(writer, sheet_name='Locations M %')\n",
    "compiler('Locations', 'Female').to_excel(writer, sheet_name='Locations F')\n",
    "pd.DataFrame([locs_percent_1['Female'], locs_percent_2['Female']],\n",
    "            index=['Female 2022', 'Female 2023']).T.to_excel(writer, sheet_name='Locations F %')\n",
    "compiler('Locations', 'Kids').to_excel(writer, sheet_name='Locations K')\n",
    "pd.DataFrame([locs_percent_1['Kids'], locs_percent_2['Kids']],\n",
    "            index=['Kids 2022', 'Kids 2023']).T.to_excel(writer, sheet_name='Locations K %')\n",
    "\n",
    "\n",
    "compiler('Locations 2', 'Male').to_excel(writer, sheet_name='Locations 2 M')\n",
    "pd.DataFrame([locs_2_percent_1['Male'], locs_2_percent_2['Male']],\n",
    "            index=['Male 2022', 'Male 2023']).T.to_excel(writer, sheet_name='Locations 2 M %')\n",
    "compiler('Locations 2', 'Female').to_excel(writer, sheet_name='Locations 2 F')\n",
    "pd.DataFrame([locs_2_percent_1['Female'], locs_2_percent_2['Female']],\n",
    "            index=['Female 2022', 'Female 2023']).T.to_excel(writer, sheet_name='Locations 2 F %')\n",
    "\n",
    "\n",
    "compiler_2('Locations 3').to_excel(writer, sheet_name='Locations 3')\n",
    "pd.DataFrame([locs_3_percent_1['Number of minutes'], locs_3_percent_2['Number of minutes']],\n",
    "            index=['Male 2022', 'Male 2023']).T.to_excel(writer, sheet_name='Locations 3 %')\n",
    "compiler_3('Locations 4').to_excel(writer, sheet_name='Locations 4')\n",
    "pd.DataFrame([locs_4_percent_1['Number of minutes'], locs_4_percent_2['Number of minutes']],\n",
    "            index=['Male 2022', 'Male 2023']).T.to_excel(writer, sheet_name='Locations 4 %')\n",
    "\n",
    "\n",
    "compiler('Moves', 'Male').to_excel(writer, sheet_name='Moves M')\n",
    "pd.DataFrame([moves_percent_1['Male'], moves_percent_2['Male']],\n",
    "            index=['Male 2022', 'Male 2023']).T.to_excel(writer, sheet_name='Moves M %')\n",
    "compiler('Moves', 'Female').to_excel(writer, sheet_name='Moves F')\n",
    "pd.DataFrame([moves_percent_1['Female'], moves_percent_2['Female']],\n",
    "            index=['Female 2022', 'Female 2023']).T.to_excel(writer, sheet_name='Moves F %')\n",
    "compiler('Moves', 'Kids').to_excel(writer, sheet_name='Moves K')\n",
    "pd.DataFrame([moves_percent_1['Kids'], moves_percent_2['Kids']],\n",
    "            index=['Kids 2022', 'Kids 2023']).T.to_excel(writer, sheet_name='Moves K %')\n",
    "\n",
    "\n",
    "compiler('Moves 2', 'Male').to_excel(writer, sheet_name='Moves 2 M')\n",
    "pd.DataFrame([moves_2_percent_1['Male'], moves_2_percent_2['Male']],\n",
    "            index=['Male 2022', 'Male 2023']).T.to_excel(writer, sheet_name='Moves 2 M %')\n",
    "compiler('Moves 2', 'Female').to_excel(writer, sheet_name='Moves 2 F')\n",
    "pd.DataFrame([moves_2_percent_1['Female'], moves_2_percent_2['Female']],\n",
    "            index=['Female 2022', 'Female 2023']).T.to_excel(writer, sheet_name='Moves 2 F %')\n",
    "\n",
    "\n",
    "compiler('Environments', 'Male').to_excel(writer, sheet_name='Environments M')\n",
    "pd.DataFrame([env_percent_1['Male'], env_percent_2['Male']],\n",
    "            index=['Male 2022', 'Male 2023']).T.to_excel(writer, sheet_name='Environments M %')\n",
    "compiler('Environments', 'Female').to_excel(writer, sheet_name='Environments F')\n",
    "pd.DataFrame([env_percent_1['Female'], env_percent_2['Female']],\n",
    "            index=['Female 2022', 'Female 2023']).T.to_excel(writer, sheet_name='Environments F %')\n",
    "compiler('Environments', 'Kids').to_excel(writer, sheet_name='Environments K')\n",
    "pd.DataFrame([env_percent_1['Kids'], env_percent_2['Kids']],\n",
    "            index=['Kids 2022', 'Kids 2023']).T.to_excel(writer, sheet_name='Environments K %')\n",
    "\n",
    "\n",
    "compiler('Areas', 'Male').to_excel(writer, sheet_name='Areas M')\n",
    "pd.DataFrame([areas_percent_1['Male'], areas_percent_2['Male']],\n",
    "            index=['Male 2022', 'Male 2023']).T.to_excel(writer, sheet_name='Areas M %')\n",
    "compiler('Areas', 'Female').to_excel(writer, sheet_name='Areas F')\n",
    "pd.DataFrame([areas_percent_1['Female'], areas_percent_2['Female']],\n",
    "            index=['Female 2022', 'Female 2023']).T.to_excel(writer, sheet_name='Areas F %')\n",
    "compiler('Areas', 'Kids').to_excel(writer, sheet_name='Areas K')\n",
    "pd.DataFrame([areas_percent_1['Kids'], areas_percent_2['Kids']],\n",
    "            index=['Kids 2022', 'Kids 2023']).T.to_excel(writer, sheet_name='Areas K %')\n",
    "\n",
    "\n",
    "writer.save()"
   ]
  }
 ],
 "metadata": {
  "kernelspec": {
   "display_name": "Python 3 (ipykernel)",
   "language": "python",
   "name": "python3"
  },
  "language_info": {
   "codemirror_mode": {
    "name": "ipython",
    "version": 3
   },
   "file_extension": ".py",
   "mimetype": "text/x-python",
   "name": "python",
   "nbconvert_exporter": "python",
   "pygments_lexer": "ipython3",
   "version": "3.9.7"
  }
 },
 "nbformat": 4,
 "nbformat_minor": 5
}
