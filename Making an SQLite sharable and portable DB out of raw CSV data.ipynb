{
 "cells": [
  {
   "cell_type": "markdown",
   "id": "04e0c9ff",
   "metadata": {},
   "source": [
    "# Making an SQLite sharable/portable DB out of raw CSV data"
   ]
  },
  {
   "cell_type": "markdown",
   "id": "4393a887",
   "metadata": {},
   "source": [
    "## 1) Finding a source"
   ]
  },
  {
   "cell_type": "code",
   "execution_count": 1,
   "id": "5965dd76",
   "metadata": {},
   "outputs": [],
   "source": [
    "link = 'https://www.kaggle.com/datasets/stereobooster/yale-som?resource=download'"
   ]
  },
  {
   "cell_type": "markdown",
   "id": "266efb98",
   "metadata": {},
   "source": [
    "## 2) Converting a CSV file into a python list"
   ]
  },
  {
   "cell_type": "code",
   "execution_count": 2,
   "id": "de53c274",
   "metadata": {},
   "outputs": [],
   "source": [
    "import csv"
   ]
  },
  {
   "cell_type": "code",
   "execution_count": 3,
   "id": "d9f18c2a",
   "metadata": {},
   "outputs": [],
   "source": [
    "with open('files/yale_data.csv', 'r') as f:\n",
    "    file_csv = csv.reader(f)\n",
    "    data = list(file_csv)"
   ]
  },
  {
   "cell_type": "markdown",
   "id": "c172263d",
   "metadata": {},
   "source": [
    "## 3) Shaping raw data into a more structured form"
   ]
  },
  {
   "cell_type": "code",
   "execution_count": 4,
   "id": "d0fd9824",
   "metadata": {},
   "outputs": [
    {
     "data": {
      "text/plain": [
       "['name', 'action', 'yaleGrade', 'countryAlpha2', 'country', 'industry']"
      ]
     },
     "execution_count": 4,
     "metadata": {},
     "output_type": "execute_result"
    }
   ],
   "source": [
    "data[0]"
   ]
  },
  {
   "cell_type": "code",
   "execution_count": 5,
   "id": "c39b457c",
   "metadata": {},
   "outputs": [],
   "source": [
    "companies = [{data[0][j] : data[i][j] for j in range(len(data[0]))} for i in range(1, len(data))]"
   ]
  },
  {
   "cell_type": "markdown",
   "id": "12822886",
   "metadata": {},
   "source": [
    "#### Here is a more readable version:"
   ]
  },
  {
   "cell_type": "code",
   "execution_count": 6,
   "id": "44419839",
   "metadata": {},
   "outputs": [],
   "source": [
    "companies_old = []\n",
    "for i in range(1, len(data)):\n",
    "    info = {}\n",
    "    for j in range(len(data[0])):\n",
    "        info[data[0][j]] = data[i][j]\n",
    "    companies_old.append(info)"
   ]
  },
  {
   "cell_type": "code",
   "execution_count": 7,
   "id": "4e3dffe4",
   "metadata": {},
   "outputs": [
    {
     "data": {
      "text/plain": [
       "True"
      ]
     },
     "execution_count": 7,
     "metadata": {},
     "output_type": "execute_result"
    }
   ],
   "source": [
    "companies == companies_old"
   ]
  },
  {
   "cell_type": "markdown",
   "id": "7c1607ed",
   "metadata": {},
   "source": [
    "## 4) Creating a DB for the data & optimising space efficiency"
   ]
  },
  {
   "cell_type": "code",
   "execution_count": 8,
   "id": "fad87ff2",
   "metadata": {},
   "outputs": [],
   "source": [
    "import sqlite3"
   ]
  },
  {
   "cell_type": "code",
   "execution_count": 9,
   "id": "746b9919",
   "metadata": {},
   "outputs": [],
   "source": [
    "con = sqlite3.connect('files/yale_data.sqlite')\n",
    "cur = con.cursor()"
   ]
  },
  {
   "cell_type": "code",
   "execution_count": 10,
   "id": "b62ad9e3",
   "metadata": {},
   "outputs": [
    {
     "data": {
      "text/plain": [
       "['name', 'action', 'yaleGrade', 'countryAlpha2', 'country', 'industry']"
      ]
     },
     "execution_count": 10,
     "metadata": {},
     "output_type": "execute_result"
    }
   ],
   "source": [
    "data[0]"
   ]
  },
  {
   "cell_type": "code",
   "execution_count": 11,
   "id": "458c49d4",
   "metadata": {},
   "outputs": [
    {
     "data": {
      "text/plain": [
       "63"
      ]
     },
     "execution_count": 11,
     "metadata": {},
     "output_type": "execute_result"
    }
   ],
   "source": [
    "max_name_len = 0\n",
    "for i in range(len(data)):\n",
    "    if max_name_len < len(data[i][0]):\n",
    "        max_name_len = len(data[i][0])\n",
    "\n",
    "max_name_len"
   ]
  },
  {
   "cell_type": "code",
   "execution_count": 12,
   "id": "b658d7a7",
   "metadata": {},
   "outputs": [
    {
     "data": {
      "text/plain": [
       "147"
      ]
     },
     "execution_count": 12,
     "metadata": {},
     "output_type": "execute_result"
    }
   ],
   "source": [
    "max_action_len = 0\n",
    "for i in range(len(data)):\n",
    "    if max_action_len < len(data[i][1]):\n",
    "        max_action_len = len(data[i][1])\n",
    "\n",
    "max_action_len"
   ]
  },
  {
   "cell_type": "code",
   "execution_count": 13,
   "id": "cb347b8d",
   "metadata": {},
   "outputs": [
    {
     "data": {
      "text/plain": [
       "20"
      ]
     },
     "execution_count": 13,
     "metadata": {},
     "output_type": "execute_result"
    }
   ],
   "source": [
    "max_country_len = 0\n",
    "for i in range(len(data)):\n",
    "    if max_country_len < len(data[i][4]):\n",
    "        max_country_len = len(data[i][4])\n",
    "\n",
    "max_country_len"
   ]
  },
  {
   "cell_type": "code",
   "execution_count": 14,
   "id": "6b30e208",
   "metadata": {},
   "outputs": [
    {
     "data": {
      "text/plain": [
       "22"
      ]
     },
     "execution_count": 14,
     "metadata": {},
     "output_type": "execute_result"
    }
   ],
   "source": [
    "max_industry_len = 0\n",
    "for i in range(len(data)):\n",
    "    if max_industry_len < len(data[i][5]):\n",
    "        max_industry_len = len(data[i][5])\n",
    "\n",
    "max_industry_len"
   ]
  },
  {
   "cell_type": "markdown",
   "id": "957fcb28",
   "metadata": {},
   "source": [
    "When creating the table, space optimization comes at the cost of flexibility of newly added data.\n",
    "\n",
    "If maximum space optimization is needed, the table creation query will be as follows:\n",
    "```python\n",
    "query = f'''\n",
    "CREATE TABLE IF NOT EXISTS companies (\n",
    "    id INT PRIMARY KEY NOT NULL,\n",
    "    name VARCHAR({max_name_len}),\n",
    "    action VARCHAR({max_action_len}),\n",
    "    yale_grade CHAR(1),\n",
    "    country_alpha_2 CHAR(2),\n",
    "    country VARCHAR({max_country_len}),\n",
    "    industry VARCHAR({max_industry_len})\n",
    ")'''\n",
    "```\n",
    "For maximum flexibility to add new entries, the query changes slightly and looks like this:\n",
    "```python\n",
    "query = f'''\n",
    "CREATE TABLE IF NOT EXISTS companies (\n",
    "    id INT PRIMARY KEY NOT NULL,\n",
    "    name TEXT,\n",
    "    action TEXT,\n",
    "    yale_grade CHAR(1),\n",
    "    country_alpha_2 CHAR(2),\n",
    "    country TEXT,\n",
    "    industry TEXT\n",
    ")'''\n",
    "```\n",
    "A compromise query between the two also exists, and would look something like this:\n",
    "```python\n",
    "query = f'''\n",
    "CREATE TABLE IF NOT EXISTS companies (\n",
    "    id INT PRIMARY KEY NOT NULL,\n",
    "    name VARCHAR({max_name_len + 100}),\n",
    "    action VARCHAR({max_action_len + 100}),\n",
    "    yale_grade CHAR(1),\n",
    "    country_alpha_2 CHAR(2),\n",
    "    country VARCHAR({max_country_len + 10}),\n",
    "    industry VARCHAR({max_industry_len + 20})\n",
    ")'''\n",
    "```\n",
    "In this project, I'll go with the first option."
   ]
  },
  {
   "cell_type": "code",
   "execution_count": 15,
   "id": "2702a305",
   "metadata": {},
   "outputs": [
    {
     "data": {
      "text/plain": [
       "<sqlite3.Cursor at 0x7f8611727810>"
      ]
     },
     "execution_count": 15,
     "metadata": {},
     "output_type": "execute_result"
    }
   ],
   "source": [
    "create_query = f'''\n",
    "CREATE TABLE IF NOT EXISTS Companies (\n",
    "    id INT PRIMARY KEY NOT NULL,\n",
    "    name VARCHAR({max_name_len}),\n",
    "    action VARCHAR({max_action_len}),\n",
    "    yale_grade CHAR(1),\n",
    "    country_alpha_2 CHAR(2),\n",
    "    country VARCHAR({max_country_len}),\n",
    "    industry VARCHAR({max_industry_len})\n",
    ")'''\n",
    "\n",
    "cur.execute(create_query)"
   ]
  },
  {
   "cell_type": "code",
   "execution_count": 16,
   "id": "8cfee00d",
   "metadata": {},
   "outputs": [
    {
     "data": {
      "text/plain": [
       "[('table',\n",
       "  'Companies',\n",
       "  'Companies',\n",
       "  2,\n",
       "  'CREATE TABLE Companies (\\n    id INT PRIMARY KEY NOT NULL,\\n    name VARCHAR(63),\\n    action VARCHAR(147),\\n    yale_grade CHAR(1),\\n    country_alpha_2 CHAR(2),\\n    country VARCHAR(20),\\n    industry VARCHAR(22)\\n)'),\n",
       " ('index', 'sqlite_autoindex_Companies_1', 'Companies', 3, None)]"
      ]
     },
     "execution_count": 16,
     "metadata": {},
     "output_type": "execute_result"
    }
   ],
   "source": [
    "cur.execute('SELECT * FROM sqlite_master')\n",
    "res = cur.fetchall()\n",
    "\n",
    "res"
   ]
  },
  {
   "cell_type": "markdown",
   "id": "3ea137e9",
   "metadata": {},
   "source": [
    "## 5) Adding the data to the table"
   ]
  },
  {
   "cell_type": "code",
   "execution_count": 17,
   "id": "1958c074",
   "metadata": {},
   "outputs": [
    {
     "data": {
      "text/plain": [
       "'\\nCREATE TABLE IF NOT EXISTS Companies (\\n    id INT PRIMARY KEY NOT NULL,\\n    name VARCHAR(63),\\n    action VARCHAR(147),\\n    yale_grade CHAR(1),\\n    country_alpha_2 CHAR(2),\\n    country VARCHAR(20),\\n    industry VARCHAR(22)\\n)'"
      ]
     },
     "execution_count": 17,
     "metadata": {},
     "output_type": "execute_result"
    }
   ],
   "source": [
    "create_query"
   ]
  },
  {
   "cell_type": "code",
   "execution_count": 18,
   "id": "2e34d820",
   "metadata": {},
   "outputs": [
    {
     "data": {
      "text/plain": [
       "{'name': 'Acerinox',\n",
       " 'action': 'still operating in Russia',\n",
       " 'yaleGrade': 'f',\n",
       " 'countryAlpha2': 'ES',\n",
       " 'country': 'Spain',\n",
       " 'industry': 'Materials'}"
      ]
     },
     "execution_count": 18,
     "metadata": {},
     "output_type": "execute_result"
    }
   ],
   "source": [
    "companies[0]"
   ]
  },
  {
   "cell_type": "code",
   "execution_count": 19,
   "id": "507d7646",
   "metadata": {},
   "outputs": [],
   "source": [
    "for i in range(len(companies)):\n",
    "    add_query = f'''\n",
    "    INSERT INTO companies\n",
    "    VALUES(?,?,?,?,?,?,?)\n",
    "    '''\n",
    "    cur.execute(add_query, (i+1,\n",
    "        companies[i]['name'],\n",
    "        companies[i]['action'],\n",
    "        companies[i]['yaleGrade'],\n",
    "        companies[i]['countryAlpha2'],\n",
    "        companies[i]['country'],\n",
    "        companies[i]['industry']\n",
    "    ))"
   ]
  },
  {
   "cell_type": "code",
   "execution_count": 20,
   "id": "6cb2e81e",
   "metadata": {},
   "outputs": [
    {
     "data": {
      "text/plain": [
       "True"
      ]
     },
     "execution_count": 20,
     "metadata": {},
     "output_type": "execute_result"
    }
   ],
   "source": [
    "select_query = '''\n",
    "SELECT *\n",
    "FROM companies\n",
    "'''\n",
    "\n",
    "cur.execute(select_query)\n",
    "res = cur.fetchall()\n",
    "\n",
    "len(res) == len(companies)"
   ]
  },
  {
   "cell_type": "code",
   "execution_count": 21,
   "id": "651e4ae9",
   "metadata": {},
   "outputs": [
    {
     "data": {
      "text/plain": [
       "[(1, 'Acerinox', 'still operating in Russia', 'f', 'ES', 'Spain', 'Materials')]"
      ]
     },
     "execution_count": 21,
     "metadata": {},
     "output_type": "execute_result"
    }
   ],
   "source": [
    "select_query = '''\n",
    "SELECT *\n",
    "FROM companies\n",
    "WHERE id = 1\n",
    "'''\n",
    "\n",
    "cur.execute(select_query)\n",
    "res = cur.fetchall()\n",
    "\n",
    "res"
   ]
  },
  {
   "cell_type": "markdown",
   "id": "bb2f916d",
   "metadata": {},
   "source": [
    "## 6) Let's see what's in the DB"
   ]
  },
  {
   "cell_type": "code",
   "execution_count": 22,
   "id": "14061d07",
   "metadata": {},
   "outputs": [
    {
     "data": {
      "text/plain": [
       "[('JCB', 2), ('Merck', 2), ('Systemair', 2)]"
      ]
     },
     "execution_count": 22,
     "metadata": {},
     "output_type": "execute_result"
    }
   ],
   "source": [
    "# Different companies having the same name:\n",
    "\n",
    "select_query = '''\n",
    "SELECT name, COUNT(name)\n",
    "FROM companies\n",
    "GROUP BY name\n",
    "HAVING COUNT(name) > 1\n",
    "'''\n",
    "\n",
    "cur.execute(select_query)\n",
    "res = cur.fetchall()\n",
    "\n",
    "res"
   ]
  },
  {
   "cell_type": "code",
   "execution_count": 23,
   "id": "b8075bd4",
   "metadata": {},
   "outputs": [
    {
     "data": {
      "text/plain": [
       "[('a', 325), ('b', 498), ('c', 173), ('d', 162), ('f', 230)]"
      ]
     },
     "execution_count": 23,
     "metadata": {},
     "output_type": "execute_result"
    }
   ],
   "source": [
    "# Number of companies that are very responsible (A), \n",
    "# that (might) have a good heart (B, C), \n",
    "# and that you should boycott (D, F):\n",
    "\n",
    "select_query = '''\n",
    "SELECT yale_grade, COUNT(yale_grade)\n",
    "FROM companies\n",
    "GROUP BY yale_grade\n",
    "'''\n",
    "\n",
    "cur.execute(select_query)\n",
    "res = cur.fetchall()\n",
    "\n",
    "res"
   ]
  },
  {
   "cell_type": "markdown",
   "id": "ba856a3e",
   "metadata": {},
   "source": [
    "As seen above, by the time of the data report the largest number of listed companies are in the process of leaving Russia's market. Let's see the overall tendency"
   ]
  },
  {
   "cell_type": "code",
   "execution_count": 24,
   "id": "7cea3f9c",
   "metadata": {},
   "outputs": [
    {
     "data": {
      "text/plain": [
       "True"
      ]
     },
     "execution_count": 24,
     "metadata": {},
     "output_type": "execute_result"
    }
   ],
   "source": [
    "# Comparing A + B companies to C + D + F ones:\n",
    "\n",
    "select_query = '''\n",
    "SELECT COUNT(yale_grade)\n",
    "FROM companies\n",
    "GROUP BY yale_grade\n",
    "'''\n",
    "\n",
    "cur.execute(select_query)\n",
    "res = cur.fetchall()\n",
    "\n",
    "a_b = sum((res[0][0], res[1][0]))\n",
    "c_d_f = sum((res[2][0], res[3][0], res[4][0]))\n",
    "\n",
    "a_b > c_d_f"
   ]
  },
  {
   "cell_type": "markdown",
   "id": "baa4f49b",
   "metadata": {},
   "source": [
    "Okay, there is hope :)"
   ]
  },
  {
   "cell_type": "markdown",
   "id": "977c1964",
   "metadata": {},
   "source": [
    "## That's it. Now we save up and close the connection"
   ]
  },
  {
   "cell_type": "code",
   "execution_count": 25,
   "id": "1395d1d4",
   "metadata": {},
   "outputs": [],
   "source": [
    "con.commit()\n",
    "con.close()"
   ]
  }
 ],
 "metadata": {
  "kernelspec": {
   "display_name": "Python 3 (ipykernel)",
   "language": "python",
   "name": "python3"
  },
  "language_info": {
   "codemirror_mode": {
    "name": "ipython",
    "version": 3
   },
   "file_extension": ".py",
   "mimetype": "text/x-python",
   "name": "python",
   "nbconvert_exporter": "python",
   "pygments_lexer": "ipython3",
   "version": "3.9.7"
  }
 },
 "nbformat": 4,
 "nbformat_minor": 5
}
